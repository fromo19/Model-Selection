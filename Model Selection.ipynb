{
 "cells": [
  {
   "cell_type": "code",
   "execution_count": 1,
   "metadata": {},
   "outputs": [],
   "source": [
    "import pandas as pd\n",
    "import numpy as np\n",
    "import matplotlib.pyplot as plt\n",
    "import seaborn as sns\n",
    "from sklearn.pipeline import Pipeline\n",
    "from sklearn.preprocessing import StandardScaler\n",
    "from sklearn.linear_model import Ridge, Lasso\n",
    "from sklearn.ensemble import RandomForestRegressor\n",
    "import xgboost as xgb\n",
    "from sklearn.metrics import mean_squared_error\n",
    "from sklearn.model_selection import RandomizedSearchCV, cross_val_score, GridSearchCV"
   ]
  },
  {
   "cell_type": "code",
   "execution_count": 2,
   "metadata": {},
   "outputs": [],
   "source": [
    "hold_out = pd.read_csv('/Users/coleromanyk/Documents/GitHub/Capstone 2/hold_out_data.csv')\n",
    "train_data= pd.read_csv('/Users/coleromanyk/Documents/GitHub/Capstone 2/SMOTE_data.csv')"
   ]
  },
  {
   "cell_type": "code",
   "execution_count": 3,
   "metadata": {},
   "outputs": [
    {
     "name": "stdout",
     "output_type": "stream",
     "text": [
      "<class 'pandas.core.frame.DataFrame'>\n",
      "RangeIndex: 172 entries, 0 to 171\n",
      "Data columns (total 12 columns):\n",
      " #   Column                                   Non-Null Count  Dtype  \n",
      "---  ------                                   --------------  -----  \n",
      " 0   Year                                     172 non-null    int64  \n",
      " 1   Per Acre Emissions                       172 non-null    float64\n",
      " 2   N                                        172 non-null    float64\n",
      " 3   P                                        172 non-null    float64\n",
      " 4   Potash                                   172 non-null    float64\n",
      " 5   IN Corn Yield per Acre                   172 non-null    int64  \n",
      " 6   Precipitation                            172 non-null    float64\n",
      " 7   Average Temperature                      172 non-null    float64\n",
      " 8   IN No Till Corn (Thousands of acres)     172 non-null    float64\n",
      " 9   IN Con Till Corn (Thousands of acres)    172 non-null    float64\n",
      " 10  IN Corn Cover Crop (Thousands of acres)  172 non-null    float64\n",
      " 11  Conventional Till                        172 non-null    float64\n",
      "dtypes: float64(10), int64(2)\n",
      "memory usage: 16.2 KB\n",
      "None\n"
     ]
    },
    {
     "data": {
      "text/html": [
       "<div>\n",
       "<style scoped>\n",
       "    .dataframe tbody tr th:only-of-type {\n",
       "        vertical-align: middle;\n",
       "    }\n",
       "\n",
       "    .dataframe tbody tr th {\n",
       "        vertical-align: top;\n",
       "    }\n",
       "\n",
       "    .dataframe thead th {\n",
       "        text-align: right;\n",
       "    }\n",
       "</style>\n",
       "<table border=\"1\" class=\"dataframe\">\n",
       "  <thead>\n",
       "    <tr style=\"text-align: right;\">\n",
       "      <th></th>\n",
       "      <th>Year</th>\n",
       "      <th>Per Acre Emissions</th>\n",
       "      <th>N</th>\n",
       "      <th>P</th>\n",
       "      <th>Potash</th>\n",
       "      <th>IN Corn Yield per Acre</th>\n",
       "      <th>Precipitation</th>\n",
       "      <th>Average Temperature</th>\n",
       "      <th>IN No Till Corn (Thousands of acres)</th>\n",
       "      <th>IN Con Till Corn (Thousands of acres)</th>\n",
       "      <th>IN Corn Cover Crop (Thousands of acres)</th>\n",
       "      <th>Conventional Till</th>\n",
       "    </tr>\n",
       "  </thead>\n",
       "  <tbody>\n",
       "    <tr>\n",
       "      <th>0</th>\n",
       "      <td>1993</td>\n",
       "      <td>2.860590</td>\n",
       "      <td>134.0</td>\n",
       "      <td>68.0</td>\n",
       "      <td>114.0</td>\n",
       "      <td>132</td>\n",
       "      <td>50.78</td>\n",
       "      <td>52.0</td>\n",
       "      <td>1211.769</td>\n",
       "      <td>1536.438</td>\n",
       "      <td>0.0</td>\n",
       "      <td>2651.793</td>\n",
       "    </tr>\n",
       "    <tr>\n",
       "      <th>1</th>\n",
       "      <td>2007</td>\n",
       "      <td>3.367331</td>\n",
       "      <td>149.0</td>\n",
       "      <td>69.0</td>\n",
       "      <td>124.0</td>\n",
       "      <td>154</td>\n",
       "      <td>36.75</td>\n",
       "      <td>55.0</td>\n",
       "      <td>1542.152</td>\n",
       "      <td>2202.153</td>\n",
       "      <td>0.0</td>\n",
       "      <td>2625.695</td>\n",
       "    </tr>\n",
       "    <tr>\n",
       "      <th>2</th>\n",
       "      <td>1999</td>\n",
       "      <td>3.341237</td>\n",
       "      <td>154.0</td>\n",
       "      <td>56.0</td>\n",
       "      <td>116.0</td>\n",
       "      <td>132</td>\n",
       "      <td>32.40</td>\n",
       "      <td>54.5</td>\n",
       "      <td>1044.103</td>\n",
       "      <td>1548.732</td>\n",
       "      <td>0.0</td>\n",
       "      <td>3077.165</td>\n",
       "    </tr>\n",
       "    <tr>\n",
       "      <th>3</th>\n",
       "      <td>2001</td>\n",
       "      <td>2.929382</td>\n",
       "      <td>140.0</td>\n",
       "      <td>66.0</td>\n",
       "      <td>121.0</td>\n",
       "      <td>156</td>\n",
       "      <td>41.91</td>\n",
       "      <td>54.2</td>\n",
       "      <td>1092.997</td>\n",
       "      <td>1532.988</td>\n",
       "      <td>0.0</td>\n",
       "      <td>3044.015</td>\n",
       "    </tr>\n",
       "    <tr>\n",
       "      <th>4</th>\n",
       "      <td>1990</td>\n",
       "      <td>3.306718</td>\n",
       "      <td>139.0</td>\n",
       "      <td>75.0</td>\n",
       "      <td>111.0</td>\n",
       "      <td>129</td>\n",
       "      <td>50.44</td>\n",
       "      <td>54.4</td>\n",
       "      <td>479.255</td>\n",
       "      <td>824.200</td>\n",
       "      <td>0.0</td>\n",
       "      <td>4146.545</td>\n",
       "    </tr>\n",
       "  </tbody>\n",
       "</table>\n",
       "</div>"
      ],
      "text/plain": [
       "   Year  Per Acre Emissions      N     P  Potash  IN Corn Yield per Acre  \\\n",
       "0  1993            2.860590  134.0  68.0   114.0                     132   \n",
       "1  2007            3.367331  149.0  69.0   124.0                     154   \n",
       "2  1999            3.341237  154.0  56.0   116.0                     132   \n",
       "3  2001            2.929382  140.0  66.0   121.0                     156   \n",
       "4  1990            3.306718  139.0  75.0   111.0                     129   \n",
       "\n",
       "   Precipitation  Average Temperature  IN No Till Corn (Thousands of acres)  \\\n",
       "0          50.78                 52.0                              1211.769   \n",
       "1          36.75                 55.0                              1542.152   \n",
       "2          32.40                 54.5                              1044.103   \n",
       "3          41.91                 54.2                              1092.997   \n",
       "4          50.44                 54.4                               479.255   \n",
       "\n",
       "   IN Con Till Corn (Thousands of acres)  \\\n",
       "0                               1536.438   \n",
       "1                               2202.153   \n",
       "2                               1548.732   \n",
       "3                               1532.988   \n",
       "4                                824.200   \n",
       "\n",
       "   IN Corn Cover Crop (Thousands of acres)  Conventional Till  \n",
       "0                                      0.0           2651.793  \n",
       "1                                      0.0           2625.695  \n",
       "2                                      0.0           3077.165  \n",
       "3                                      0.0           3044.015  \n",
       "4                                      0.0           4146.545  "
      ]
     },
     "execution_count": 3,
     "metadata": {},
     "output_type": "execute_result"
    }
   ],
   "source": [
    "print(train_data.info())\n",
    "train_data.head()"
   ]
  },
  {
   "cell_type": "code",
   "execution_count": 4,
   "metadata": {
    "scrolled": true
   },
   "outputs": [
    {
     "name": "stdout",
     "output_type": "stream",
     "text": [
      "<class 'pandas.core.frame.DataFrame'>\n",
      "RangeIndex: 6 entries, 0 to 5\n",
      "Data columns (total 12 columns):\n",
      " #   Column                                   Non-Null Count  Dtype  \n",
      "---  ------                                   --------------  -----  \n",
      " 0   Year                                     6 non-null      int64  \n",
      " 1   Per Acre Emissions                       6 non-null      float64\n",
      " 2   N                                        6 non-null      float64\n",
      " 3   P                                        6 non-null      float64\n",
      " 4   Potash                                   6 non-null      float64\n",
      " 5   IN Corn Yield per Acre                   6 non-null      int64  \n",
      " 6   Precipitation                            6 non-null      float64\n",
      " 7   Average Temperature                      6 non-null      float64\n",
      " 8   IN No Till Corn (Thousands of acres)     6 non-null      float64\n",
      " 9   IN Con Till Corn (Thousands of acres)    6 non-null      float64\n",
      " 10  IN Corn Cover Crop (Thousands of acres)  6 non-null      float64\n",
      " 11  Conventional Till                        6 non-null      float64\n",
      "dtypes: float64(10), int64(2)\n",
      "memory usage: 704.0 bytes\n",
      "None\n"
     ]
    },
    {
     "data": {
      "text/html": [
       "<div>\n",
       "<style scoped>\n",
       "    .dataframe tbody tr th:only-of-type {\n",
       "        vertical-align: middle;\n",
       "    }\n",
       "\n",
       "    .dataframe tbody tr th {\n",
       "        vertical-align: top;\n",
       "    }\n",
       "\n",
       "    .dataframe thead th {\n",
       "        text-align: right;\n",
       "    }\n",
       "</style>\n",
       "<table border=\"1\" class=\"dataframe\">\n",
       "  <thead>\n",
       "    <tr style=\"text-align: right;\">\n",
       "      <th></th>\n",
       "      <th>Year</th>\n",
       "      <th>Per Acre Emissions</th>\n",
       "      <th>N</th>\n",
       "      <th>P</th>\n",
       "      <th>Potash</th>\n",
       "      <th>IN Corn Yield per Acre</th>\n",
       "      <th>Precipitation</th>\n",
       "      <th>Average Temperature</th>\n",
       "      <th>IN No Till Corn (Thousands of acres)</th>\n",
       "      <th>IN Con Till Corn (Thousands of acres)</th>\n",
       "      <th>IN Corn Cover Crop (Thousands of acres)</th>\n",
       "      <th>Conventional Till</th>\n",
       "    </tr>\n",
       "  </thead>\n",
       "  <tbody>\n",
       "    <tr>\n",
       "      <th>0</th>\n",
       "      <td>2006</td>\n",
       "      <td>2.758260</td>\n",
       "      <td>148.0</td>\n",
       "      <td>69.0</td>\n",
       "      <td>122.0</td>\n",
       "      <td>157</td>\n",
       "      <td>51.06</td>\n",
       "      <td>54.5</td>\n",
       "      <td>1365.257</td>\n",
       "      <td>1953.378</td>\n",
       "      <td>0.000</td>\n",
       "      <td>2061.365</td>\n",
       "    </tr>\n",
       "    <tr>\n",
       "      <th>1</th>\n",
       "      <td>2017</td>\n",
       "      <td>2.802987</td>\n",
       "      <td>166.0</td>\n",
       "      <td>72.0</td>\n",
       "      <td>114.0</td>\n",
       "      <td>180</td>\n",
       "      <td>47.45</td>\n",
       "      <td>55.6</td>\n",
       "      <td>1134.432</td>\n",
       "      <td>1816.156</td>\n",
       "      <td>362.494</td>\n",
       "      <td>2249.412</td>\n",
       "    </tr>\n",
       "    <tr>\n",
       "      <th>2</th>\n",
       "      <td>2005</td>\n",
       "      <td>3.096088</td>\n",
       "      <td>147.0</td>\n",
       "      <td>77.0</td>\n",
       "      <td>124.0</td>\n",
       "      <td>154</td>\n",
       "      <td>43.74</td>\n",
       "      <td>53.9</td>\n",
       "      <td>1188.362</td>\n",
       "      <td>1704.603</td>\n",
       "      <td>0.000</td>\n",
       "      <td>2877.035</td>\n",
       "    </tr>\n",
       "    <tr>\n",
       "      <th>3</th>\n",
       "      <td>2008</td>\n",
       "      <td>2.802926</td>\n",
       "      <td>149.0</td>\n",
       "      <td>70.0</td>\n",
       "      <td>126.0</td>\n",
       "      <td>160</td>\n",
       "      <td>49.04</td>\n",
       "      <td>52.7</td>\n",
       "      <td>1393.276</td>\n",
       "      <td>2095.076</td>\n",
       "      <td>0.000</td>\n",
       "      <td>1971.648</td>\n",
       "    </tr>\n",
       "    <tr>\n",
       "      <th>4</th>\n",
       "      <td>1994</td>\n",
       "      <td>3.331703</td>\n",
       "      <td>147.0</td>\n",
       "      <td>74.0</td>\n",
       "      <td>112.0</td>\n",
       "      <td>144</td>\n",
       "      <td>31.63</td>\n",
       "      <td>53.3</td>\n",
       "      <td>1131.817</td>\n",
       "      <td>1534.523</td>\n",
       "      <td>0.000</td>\n",
       "      <td>3293.660</td>\n",
       "    </tr>\n",
       "  </tbody>\n",
       "</table>\n",
       "</div>"
      ],
      "text/plain": [
       "   Year  Per Acre Emissions      N     P  Potash  IN Corn Yield per Acre  \\\n",
       "0  2006            2.758260  148.0  69.0   122.0                     157   \n",
       "1  2017            2.802987  166.0  72.0   114.0                     180   \n",
       "2  2005            3.096088  147.0  77.0   124.0                     154   \n",
       "3  2008            2.802926  149.0  70.0   126.0                     160   \n",
       "4  1994            3.331703  147.0  74.0   112.0                     144   \n",
       "\n",
       "   Precipitation  Average Temperature  IN No Till Corn (Thousands of acres)  \\\n",
       "0          51.06                 54.5                              1365.257   \n",
       "1          47.45                 55.6                              1134.432   \n",
       "2          43.74                 53.9                              1188.362   \n",
       "3          49.04                 52.7                              1393.276   \n",
       "4          31.63                 53.3                              1131.817   \n",
       "\n",
       "   IN Con Till Corn (Thousands of acres)  \\\n",
       "0                               1953.378   \n",
       "1                               1816.156   \n",
       "2                               1704.603   \n",
       "3                               2095.076   \n",
       "4                               1534.523   \n",
       "\n",
       "   IN Corn Cover Crop (Thousands of acres)  Conventional Till  \n",
       "0                                    0.000           2061.365  \n",
       "1                                  362.494           2249.412  \n",
       "2                                    0.000           2877.035  \n",
       "3                                    0.000           1971.648  \n",
       "4                                    0.000           3293.660  "
      ]
     },
     "execution_count": 4,
     "metadata": {},
     "output_type": "execute_result"
    }
   ],
   "source": [
    "print(hold_out.info())\n",
    "hold_out.head()"
   ]
  },
  {
   "cell_type": "code",
   "execution_count": 5,
   "metadata": {},
   "outputs": [],
   "source": [
    "X_train = train_data.drop('Per Acre Emissions', axis=1)\n",
    "y_train = train_data['Per Acre Emissions']"
   ]
  },
  {
   "cell_type": "code",
   "execution_count": 6,
   "metadata": {},
   "outputs": [],
   "source": [
    "X_test = hold_out.drop('Per Acre Emissions', axis=1)\n",
    "y_test = hold_out['Per Acre Emissions']"
   ]
  },
  {
   "cell_type": "code",
   "execution_count": 7,
   "metadata": {},
   "outputs": [],
   "source": [
    "xgb_params = {\"objective\":\"reg:linear\"}"
   ]
  },
  {
   "cell_type": "code",
   "execution_count": 8,
   "metadata": {},
   "outputs": [],
   "source": [
    "ridge = Ridge()\n",
    "lasso = Lasso()\n",
    "rf = RandomForestRegressor()\n",
    "xgb  = xgb.XGBRegressor()"
   ]
  },
  {
   "cell_type": "code",
   "execution_count": 22,
   "metadata": {},
   "outputs": [],
   "source": [
    "scaler = StandardScaler()\n",
    "scaler_param = ('Scale', scaler)"
   ]
  },
  {
   "cell_type": "code",
   "execution_count": 23,
   "metadata": {},
   "outputs": [],
   "source": [
    "ridge_pipe = Pipeline([scaler_param, ('Ridge', ridge)])\n",
    "lasso_pipe = Pipeline([scaler_param, ('Lasso', lasso)])\n",
    "rf_pipe = Pipeline([scaler_param, ('Random Forrest', rf)])\n",
    "xgb_pipe = Pipeline([scaler_param, ('XGB Regressor', xgb)])"
   ]
  },
  {
   "cell_type": "code",
   "execution_count": 24,
   "metadata": {},
   "outputs": [
    {
     "name": "stdout",
     "output_type": "stream",
     "text": [
      "('Ridge()', 0.09018447356516088)\n",
      "('Lasso()', 0.19742629764805658)\n",
      "('RandomForestRegressor()', 0.06292201712726374)\n",
      "(\"XGBRegressor(base_score=None, booster=None, colsample_bylevel=None,\\n             colsample_bynode=None, colsample_bytree=None, gamma=None,\\n             gpu_id=None, importance_type='gain', interaction_constraints=None,\\n             learning_rate=None, max_delta_step=None, max_depth=None,\\n             min_child_weight=None, missing=nan, monotone_constraints=None,\\n             n_estimators=100, n_jobs=None, num_parallel_tree=None,\\n             random_state=None, reg_alpha=None, reg_lambda=None,\\n             scale_pos_weight=None, subsample=None, tree_method=None,\\n             validate_parameters=None, verbosity=None)\", 0.054399917901490014)\n"
     ]
    }
   ],
   "source": [
    "pipes = [ridge_pipe, lasso_pipe, rf_pipe, xgb_pipe]\n",
    "for pipe in pipes:\n",
    "    cv_score = cross_val_score(pipe, X_train, y_train, scoring='neg_mean_squared_error', cv=5)\n",
    "    score = (str(pipe[1]), np.mean(np.sqrt(np.abs(cv_score))))\n",
    "    print(score)"
   ]
  },
  {
   "cell_type": "markdown",
   "metadata": {},
   "source": [
    "Grid and Randomized Search Params for XG Boost"
   ]
  },
  {
   "cell_type": "code",
   "execution_count": 25,
   "metadata": {
    "scrolled": false
   },
   "outputs": [],
   "source": [
    "X_scaled = scaler.fit_transform(X_train)\n",
    "y_scaled = scaler.fit_transform(np.array(y_train).reshape(-1, 1))"
   ]
  },
  {
   "cell_type": "code",
   "execution_count": 26,
   "metadata": {},
   "outputs": [],
   "source": [
    "params = {'n_estimators':[5,10,15], 'max_depth':range(3,11), 'learning_rate':[.001, .01, .1, .5, 1]}"
   ]
  },
  {
   "cell_type": "code",
   "execution_count": 27,
   "metadata": {
    "scrolled": true
   },
   "outputs": [],
   "source": [
    "# X_dmatrix = xgb.DMatrix(data=X_scaled, label=y_scaled)"
   ]
  },
  {
   "cell_type": "code",
   "execution_count": 28,
   "metadata": {
    "scrolled": true
   },
   "outputs": [],
   "source": [
    "grid_mse = GridSearchCV(estimator=xgb, param_grid=params, scoring='neg_mean_squared_error', cv=5, verbose=1)"
   ]
  },
  {
   "cell_type": "code",
   "execution_count": 29,
   "metadata": {
    "scrolled": true
   },
   "outputs": [
    {
     "name": "stdout",
     "output_type": "stream",
     "text": [
      "Fitting 5 folds for each of 120 candidates, totalling 600 fits\n"
     ]
    },
    {
     "data": {
      "text/plain": [
       "GridSearchCV(cv=5,\n",
       "             estimator=XGBRegressor(base_score=None, booster=None,\n",
       "                                    colsample_bylevel=None,\n",
       "                                    colsample_bynode=None,\n",
       "                                    colsample_bytree=None, gamma=None,\n",
       "                                    gpu_id=None, importance_type='gain',\n",
       "                                    interaction_constraints=None,\n",
       "                                    learning_rate=None, max_delta_step=None,\n",
       "                                    max_depth=None, min_child_weight=None,\n",
       "                                    missing=nan, monotone_constraints=None,\n",
       "                                    n_estimators=100, n_jobs=None,\n",
       "                                    num_parallel_tree=None, random_state=None,\n",
       "                                    reg_alpha=None, reg_lambda=None,\n",
       "                                    scale_pos_weight=None, subsample=None,\n",
       "                                    tree_method=None, validate_parameters=None,\n",
       "                                    verbosity=None),\n",
       "             param_grid={'learning_rate': [0.001, 0.01, 0.1, 0.5, 1],\n",
       "                         'max_depth': range(3, 11),\n",
       "                         'n_estimators': [5, 10, 15]},\n",
       "             scoring='neg_mean_squared_error', verbose=1)"
      ]
     },
     "execution_count": 29,
     "metadata": {},
     "output_type": "execute_result"
    }
   ],
   "source": [
    "grid_mse.fit(X_scaled, y_scaled)"
   ]
  },
  {
   "cell_type": "code",
   "execution_count": 30,
   "metadata": {},
   "outputs": [],
   "source": [
    "randomized_mse = RandomizedSearchCV(estimator=xgb, param_distributions=params, scoring='neg_mean_squared_error', n_iter=25, cv=5, verbose=1)"
   ]
  },
  {
   "cell_type": "code",
   "execution_count": 31,
   "metadata": {
    "scrolled": true
   },
   "outputs": [
    {
     "name": "stdout",
     "output_type": "stream",
     "text": [
      "Fitting 5 folds for each of 25 candidates, totalling 125 fits\n"
     ]
    },
    {
     "data": {
      "text/plain": [
       "RandomizedSearchCV(cv=5,\n",
       "                   estimator=XGBRegressor(base_score=None, booster=None,\n",
       "                                          colsample_bylevel=None,\n",
       "                                          colsample_bynode=None,\n",
       "                                          colsample_bytree=None, gamma=None,\n",
       "                                          gpu_id=None, importance_type='gain',\n",
       "                                          interaction_constraints=None,\n",
       "                                          learning_rate=None,\n",
       "                                          max_delta_step=None, max_depth=None,\n",
       "                                          min_child_weight=None, missing=nan,\n",
       "                                          monotone_constraints=None,\n",
       "                                          n_estimators=100, n_jobs=None,\n",
       "                                          num_parallel_tree=None,\n",
       "                                          random_state=None, reg_alpha=None,\n",
       "                                          reg_lambda=None,\n",
       "                                          scale_pos_weight=None, subsample=None,\n",
       "                                          tree_method=None,\n",
       "                                          validate_parameters=None,\n",
       "                                          verbosity=None),\n",
       "                   n_iter=25,\n",
       "                   param_distributions={'learning_rate': [0.001, 0.01, 0.1, 0.5,\n",
       "                                                          1],\n",
       "                                        'max_depth': range(3, 11),\n",
       "                                        'n_estimators': [5, 10, 15]},\n",
       "                   scoring='neg_mean_squared_error', verbose=1)"
      ]
     },
     "execution_count": 31,
     "metadata": {},
     "output_type": "execute_result"
    }
   ],
   "source": [
    "randomized_mse.fit(X_scaled, y_scaled)"
   ]
  },
  {
   "cell_type": "code",
   "execution_count": 32,
   "metadata": {},
   "outputs": [
    {
     "name": "stdout",
     "output_type": "stream",
     "text": [
      "Best Grid parameters found:  {'learning_rate': 0.5, 'max_depth': 3, 'n_estimators': 15}\n",
      "Lowest Grid RMSE found:  0.34035555921510946\n",
      "Best Random parameters found:  {'n_estimators': 10, 'max_depth': 3, 'learning_rate': 1}\n",
      "Lowest Random RMSE found:  0.34218235849199957\n"
     ]
    }
   ],
   "source": [
    "print(\"Best Grid parameters found: \", grid_mse.best_params_)\n",
    "print(\"Lowest Grid RMSE found: \", np.sqrt(np.abs(grid_mse.best_score_)))\n",
    "print(\"Best Random parameters found: \", randomized_mse.best_params_)\n",
    "print(\"Lowest Random RMSE found: \", np.sqrt(np.abs(randomized_mse.best_score_)))"
   ]
  }
 ],
 "metadata": {
  "kernelspec": {
   "display_name": "Python 3",
   "language": "python",
   "name": "python3"
  },
  "language_info": {
   "codemirror_mode": {
    "name": "ipython",
    "version": 3
   },
   "file_extension": ".py",
   "mimetype": "text/x-python",
   "name": "python",
   "nbconvert_exporter": "python",
   "pygments_lexer": "ipython3",
   "version": "3.8.5"
  }
 },
 "nbformat": 4,
 "nbformat_minor": 4
}
